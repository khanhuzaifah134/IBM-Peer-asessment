{
    "cells": [
        {
            "metadata": {
                "collapsed": true
            },
            "cell_type": "markdown",
            "source": "# My Jupyter Notebook on IBM Watson Studio"
        },
        {
            "metadata": {},
            "cell_type": "markdown",
            "source": "__Huzaifah Khan__\n\nStudend in his final year studying General Engineering."
        },
        {
            "metadata": {},
            "cell_type": "markdown",
            "source": "_I am interested in data science as it is an advantageous supplement to an engineer that will elevate the engineers understanding of dealing with data, something that all engineers do on a daily basis._"
        },
        {
            "metadata": {},
            "cell_type": "markdown",
            "source": "### In Cell 5, my code will Print a string 'Hello fellow scientists!!'"
        },
        {
            "metadata": {},
            "cell_type": "code",
            "source": "print('Hello fellow scientists!!')",
            "execution_count": 5,
            "outputs": [
                {
                    "output_type": "stream",
                    "text": "Hello fellow scientists!!\n",
                    "name": "stdout"
                }
            ]
        },
        {
            "metadata": {},
            "cell_type": "markdown",
            "source": ">Here are three things about me :\n>1. Roots from India\n>2. Studying engineering\n>3. Like data science!\n\nSome more things:\n- I went to school in England\n- I am more than 20 years old\n\n"
        },
        {
            "metadata": {},
            "cell_type": "code",
            "source": "",
            "execution_count": null,
            "outputs": []
        }
    ],
    "metadata": {
        "kernelspec": {
            "name": "python3",
            "display_name": "Python 3.9",
            "language": "python"
        },
        "language_info": {
            "name": "python",
            "version": "3.9.12",
            "mimetype": "text/x-python",
            "codemirror_mode": {
                "name": "ipython",
                "version": 3
            },
            "pygments_lexer": "ipython3",
            "nbconvert_exporter": "python",
            "file_extension": ".py"
        }
    },
    "nbformat": 4,
    "nbformat_minor": 1
}